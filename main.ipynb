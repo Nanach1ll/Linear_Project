{
 "cells": [
  {
   "cell_type": "code",
   "execution_count": null,
   "id": "5fc14b6c-301f-443b-bc32-b6334c7bbc87",
   "metadata": {},
   "outputs": [],
   "source": [
    "import pandas as pd\n",
    "import kagglehub\n",
    "from kagglehub import KaggleDatasetAdapter"
   ]
  },
  {
   "cell_type": "code",
   "execution_count": null,
   "id": "2575ce89-1d22-49c7-8671-1e7defddaff2",
   "metadata": {},
   "outputs": [],
   "source": [
    "file_path = 'roblox_games_data.csv'\n",
    "# Load the latest version\n",
    "df = kagglehub.dataset_load(\n",
    "    KaggleDatasetAdapter.PANDAS,\n",
    "    \"databitio/roblox-games-data\",\n",
    "    file_path\n",
    ")"
   ]
  },
  {
   "cell_type": "code",
   "execution_count": null,
   "id": "1d1fbbd0-9b34-4cbb-b777-4dccae63b051",
   "metadata": {},
   "outputs": [],
   "source": [
    "# basic data cleaning (remove duplicate and null data in required row)\n",
    "start_len = len(df)\n",
    "\n",
    "df = df.drop_duplicates() #remove duplicate rows\n",
    "\n",
    "new_len = len(df) - start_len\n",
    "print(f'{new_len} rows duplicate')\n",
    "\n",
    "df = df.dropna(subset=['Title','gameID','Active Users','Favorites','Genre']) # remove rows which missing column\n",
    "\n",
    "new_len = len(df) - start_len - new_len\n",
    "print(f'{new_len} rows missing required column data')\n",
    "\n",
    "# reset index\n",
    "df = df.reset_index(drop=True)\n",
    "\n",
    "print(f'{len(df) - start_len} total rows removed')\n",
    "print(f'{len(df)} total rows remaining')"
   ]
  },
  {
   "cell_type": "code",
   "execution_count": null,
   "id": "eb84f7ee-6235-47db-b2bf-0e2b03975769",
   "metadata": {},
   "outputs": [],
   "source": [
    "# List all unique genres\n",
    "if \"Genre\" in df.columns:\n",
    "    genres = df[\"Genre\"].dropna().unique()\n",
    "    print(\"All genres:\", genres)\n",
    "else:\n",
    "    print(\"No 'Genre' column found.\")"
   ]
  },
  {
   "cell_type": "code",
   "execution_count": null,
   "id": "5aee50bc-fe74-4e6a-b2e9-110c9f749253",
   "metadata": {},
   "outputs": [],
   "source": [
    "# print debug to understand data set\n",
    "print(df.columns.to_list())\n",
    "print(df['Title'].value_counts())\n",
    "print(df['Total Visits'].value_counts())"
   ]
  },
  {
   "cell_type": "code",
   "execution_count": null,
   "id": "0cf4e01d-55d4-49ce-a1ab-53c01ede2b0b",
   "metadata": {},
   "outputs": [],
   "source": [
    "# analyze duplicate data of one game\n",
    "def analyze_game_data(selected_game,df):\n",
    "    game = df[df['Title'] == selected_game]\n",
    "\n",
    "    if len(game) == 0:\n",
    "        print(f'{selected_game} not found')\n",
    "        return\n",
    "    \n",
    "    print(f'Total row(s) (duplicated) of game {game['Title'].value_counts()}')\n",
    "    print('----------------------------------')\n",
    "    print(f'Data of {game['Date Created'].value_counts()}') \n",
    "    print('----------------------------------')\n",
    "    print(f'Data of {game['Last Updated'].value_counts()}') \n",
    "    print('----------------------------------')\n",
    "    print(f'Data of {game['Favorites'].value_counts()}') \n",
    "    print('----------------------------------')\n",
    "    print(f'Data of {game['Active Users'].value_counts()}') \n",
    "    print('----------------------------------')\n",
    "    print(f'Data of {game['Description'].value_counts()}') \n",
    "    print('----------------------------------')\n",
    "    print(f'Data of {game['Date'].value_counts()}') \n",
    "    print('----------------------------------')"
   ]
  },
  {
   "cell_type": "code",
   "execution_count": null,
   "id": "138559f1-8319-4640-993b-eb91393f476b",
   "metadata": {},
   "outputs": [],
   "source": [
    "def parse_visits(val):\n",
    "    # Handle B+, M+, K+ etc.\n",
    "    if isinstance(val, str):\n",
    "        if 'B' in val:\n",
    "            return float(val.replace('B+', '').replace('B', '').replace(',', '').strip()) * 1_000_000_000\n",
    "        elif 'M' in val:\n",
    "            return float(val.replace('M+', '').replace('M', '').replace(',', '').strip()) * 1_000_000\n",
    "        elif 'K' in val:\n",
    "            return float(val.replace('K+', '').replace('K', '').replace(',', '').strip()) * 1_000\n",
    "        else:\n",
    "            return float(val.replace(',', '').replace('+', '').strip())\n",
    "    return val"
   ]
  },
  {
   "cell_type": "code",
   "execution_count": null,
   "id": "c6f45e21-399d-4a8d-a795-ba21afd2ebc6",
   "metadata": {},
   "outputs": [],
   "source": [
    "# try to group data of game with duplicate title \n",
    "\n",
    "# convert 'Last Updated' to datetime format for sorting\n",
    "df['Last Updated'] = pd.to_datetime(df['Last Updated'], errors='coerce')\n",
    "\n",
    "# sort date by lated update\n",
    "df = df.sort_values('Last Updated', ascending=False)\n",
    "\n",
    "# For each Title keep only lastest row (for every duplicate decription)\n",
    "df = df.drop_duplicates(subset=['Title','Description'], keep='first')\n",
    "\n",
    "# parse total visits to number\n",
    "df['Total Visits'] = df['Total Visits'].apply(parse_visits)\n",
    "\n",
    "# sort title and last updated\n",
    "df = df.sort_values(by=['Title', 'Last Updated'], ascending=[True, False])\n",
    "\n",
    "print(df['Title'].value_counts())\n",
    "print(df['Description'].value_counts())\n",
    "print('----------- ** ----------')\n",
    "print(f'Total data left {len(df)} row(s)')\n",
    "print(f\"Total unique Title: {df['Title'].nunique()}\")\n",
    "df.to_csv('clean.csv')"
   ]
  },
  {
   "cell_type": "code",
   "execution_count": null,
   "id": "ded9124d-723f-4350-a7de-cc3f4019970f",
   "metadata": {},
   "outputs": [],
   "source": []
  }
 ],
 "metadata": {
  "kernelspec": {
   "display_name": "Python 3 (ipykernel)",
   "language": "python",
   "name": "python3"
  },
  "language_info": {
   "codemirror_mode": {
    "name": "ipython",
    "version": 3
   },
   "file_extension": ".py",
   "mimetype": "text/x-python",
   "name": "python",
   "nbconvert_exporter": "python",
   "pygments_lexer": "ipython3",
   "version": "3.12.3"
  }
 },
 "nbformat": 4,
 "nbformat_minor": 5
}
