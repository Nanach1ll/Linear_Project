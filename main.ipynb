{
 "cells": [
  {
   "cell_type": "code",
   "execution_count": 7,
   "id": "5fc14b6c-301f-443b-bc32-b6334c7bbc87",
   "metadata": {},
   "outputs": [],
   "source": [
    "import pandas as pd\n",
    "import kagglehub\n",
    "from kagglehub import KaggleDatasetAdapter"
   ]
  },
  {
   "cell_type": "code",
   "execution_count": null,
   "id": "2575ce89-1d22-49c7-8671-1e7defddaff2",
   "metadata": {},
   "outputs": [],
   "source": [
    "file_path = 'roblox_games_data.csv'\n",
    "# Load the latest version\n",
    "df = kagglehub.dataset_load(\n",
    "    KaggleDatasetAdapter.PANDAS,\n",
    "    \"databitio/roblox-games-data\",\n",
    "    file_path\n",
    ")"
   ]
  },
  {
   "cell_type": "code",
   "execution_count": null,
   "id": "1d1fbbd0-9b34-4cbb-b777-4dccae63b051",
   "metadata": {},
   "outputs": [],
   "source": [
    "# basic data cleaning (remove duplicate and null data in required row)\n",
    "start_len = len(df)\n",
    "\n",
    "df = df.drop_duplicates() #remove duplicate rows\n",
    "\n",
    "new_len = len(df) - start_len\n",
    "print(f'{new_len} rows duplicate')\n",
    "\n",
    "df = df.dropna(subset=['Title','gameID','Active Users','Favorites','Genre']) # remove rows which missing column\n",
    "\n",
    "new_len = len(df) - start_len - new_len\n",
    "print(f'{new_len} rows missing required column data')\n",
    "\n",
    "# reset index\n",
    "df = df.reset_index(drop=True)\n",
    "\n",
    "print(f'{len(df) - start_len} total rows removed')\n",
    "print(f'{len(df)} total rows remaining')"
   ]
  },
  {
   "cell_type": "code",
   "execution_count": null,
   "id": "eb84f7ee-6235-47db-b2bf-0e2b03975769",
   "metadata": {},
   "outputs": [],
   "source": [
    "# List all unique genres\n",
    "if \"Genre\" in df.columns:\n",
    "    genres = df[\"Genre\"].dropna().unique()\n",
    "    print(\"All genres:\", genres)\n",
    "else:\n",
    "    print(\"No 'Genre' column found.\")"
   ]
  }
 ],
 "metadata": {
  "kernelspec": {
   "display_name": "Python 3 (ipykernel)",
   "language": "python",
   "name": "python3"
  },
  "language_info": {
   "codemirror_mode": {
    "name": "ipython",
    "version": 3
   },
   "file_extension": ".py",
   "mimetype": "text/x-python",
   "name": "python",
   "nbconvert_exporter": "python",
   "pygments_lexer": "ipython3",
   "version": "3.12.3"
  }
 },
 "nbformat": 4,
 "nbformat_minor": 5
}
